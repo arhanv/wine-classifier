{
 "cells": [
  {
   "cell_type": "markdown",
   "metadata": {
    "id": "cJX9oBLBltPd"
   },
   "source": [
    "\n",
    "# Sommelier's Nose: A Wine Classifier"
   ]
  },
  {
   "cell_type": "markdown",
   "metadata": {},
   "source": [
    "In an effort to understand the impact of different optimization methods on the training and validation accuracy of classic statistical learning models, I created a logistic regression classifier **from scratch** based on 6,000 sample points from the `wine` dataset. The project only uses `sklearn`, `scipy`, and `numpy` to handle basic preprocessing and algebraic tasks."
   ]
  },
  {
   "cell_type": "markdown",
   "metadata": {
    "id": "Ace8J2-niJiY"
   },
   "source": [
    "## General Imports"
   ]
  },
  {
   "cell_type": "code",
   "execution_count": 47,
   "metadata": {
    "id": "4cYqq-3ixhx9"
   },
   "outputs": [],
   "source": [
    "from sklearn import model_selection\n",
    "from sklearn import preprocessing\n",
    "import numpy as np\n",
    "import pandas as pd\n",
    "from scipy import io\n",
    "from scipy.special import expit\n",
    "import seaborn as sns\n",
    "from matplotlib import pyplot as plt\n",
    "np.random.seed(78)"
   ]
  },
  {
   "cell_type": "code",
   "execution_count": 48,
   "metadata": {
    "id": "CHY92ZC8V_38"
   },
   "outputs": [],
   "source": [
    "dataset = io.loadmat(f'/dataset/data.mat')"
   ]
  },
  {
   "cell_type": "markdown",
   "metadata": {
    "id": "eI1YYvAkiWPa"
   },
   "source": [
    "## Preprocessing & Model Setup"
   ]
  },
  {
   "cell_type": "code",
   "execution_count": 49,
   "metadata": {
    "id": "JTnJWGJxXHxa"
   },
   "outputs": [],
   "source": [
    "# Creating a dataframe just to inspect and understand the design matrix\n",
    "df = pd.DataFrame(data = dataset[\"X\"], columns=dataset[\"description\"])\n",
    "df[\"label\"] = dataset[\"y\"]"
   ]
  },
  {
   "cell_type": "code",
   "execution_count": 50,
   "metadata": {
    "id": "yaGCGtdqXJGG"
   },
   "outputs": [],
   "source": [
    "# Splitting the data for validation and normalizing features\n",
    "np.random.seed(78)\n",
    "def normalize_training(dframe):\n",
    "  return pd.DataFrame([(dframe[c] - dframe[c].mean()) / dframe[c].std() for c in dframe.columns]).transpose()\n",
    "\n",
    "class Process:\n",
    "  def __init__(self, dframe, test_p, test = None):\n",
    "    if test is not None:\n",
    "      training = dframe\n",
    "      validation = test\n",
    "    else:\n",
    "      training, validation = model_selection.train_test_split(dframe, \n",
    "                                                            test_size=test_p, \n",
    "                                                            shuffle=True, \n",
    "                                                            random_state=78)\n",
    "      self.y_val = validation[\"label\"]\n",
    "      \n",
    "    self.y_train = training[\"label\"]\n",
    "    means = training.mean()\n",
    "    std = training.std()\n",
    "    self.X_train = pd.DataFrame([(training[c] - means[c]) / std[c] for c in training.columns]).transpose()\n",
    "    self.X_train.drop(\"label\", axis = 1)\n",
    "    self.X_val = pd.DataFrame([(validation[c] - means[c]) / std[c] for c in validation.columns]).transpose()\n",
    "\n",
    "  def get(self):\n",
    "    return self.X_train, self.y_train, self.X_val, self.y_val\n",
    "\n",
    "  def get_test(self):\n",
    "    return self.X_train, self.y_train, self.X_val\n",
    "\n",
    "# Creating the Logistic Regression model class\n",
    "class LRModel:\n",
    "  def __init__(self, X, y, reg, epsilon):\n",
    "    X[\"fictitious\"] = np.ones(X.shape[0]) \n",
    "    self.X = X.to_numpy()\n",
    "    self.y = y\n",
    "    self.reg = reg\n",
    "    self.epsilon = epsilon\n",
    "\n",
    "    self.w = np.zeros(X.shape[1])\n",
    "\n",
    "    # This line initializes the vector s so that it can be used to set the first step of GD\n",
    "    self.regression_fn(self.w)\n",
    "\n",
    "  def logistic_fn(self, gamma):\n",
    "    return expit(-gamma)\n",
    "\n",
    "  def regression_fn(self, w):\n",
    "    self.s = np.array([self.logistic_fn(np.dot(x, w)) for x in self.X])\n",
    "  \n",
    "  def cost_fn(self, y, z):\n",
    "    reg_term = self.reg * np.linalg.norm(self.w)\n",
    "    cost = np.dot(y, np.log(z)) + np.dot(np.ones(y.shape[0]) - y, np.log(np.ones(z.shape[0]) - z))\n",
    "    fn = reg_term - cost\n",
    "    return fn\n",
    "\n",
    "  def get_params(self):\n",
    "    return self.cost_fn, self.y. self.s, self.w\n",
    "\n",
    "# Creating the Batch Descent child class\n",
    "\n",
    "class GradientDescent(LRModel):\n",
    "  def __init__(self, X, y, reg, epsilon, n):\n",
    "    LRModel.__init__(self, X, y, reg, epsilon)\n",
    "    self.cost_values = [self.cost_fn(self.y, self.s)]\n",
    "    self.n = n\n",
    "    \n",
    "  def fit(self):\n",
    "    for i in range(1, self.n + 1):\n",
    "      step_value = self.w * self.reg + np.dot(np.transpose(self.X), (self.y - self.s))\n",
    "      self.w = self.w - self.epsilon * (step_value) # Updates w\n",
    "      self.regression_fn(self.w) # Updates s\n",
    "      cv = self.cost_fn(self.y, self.s)\n",
    "      self.cost_values.append(cv)\n",
    "    return self, self.cost_values"
   ]
  },
  {
   "cell_type": "code",
   "execution_count": 51,
   "metadata": {
    "id": "LIlR0q9yiXrm"
   },
   "outputs": [],
   "source": [
    "# Creating the Stochastic Descent child class\n",
    "\n",
    "class StochasticDescent(LRModel):\n",
    "  def __init__(self, X, y, reg, epsilon, it):\n",
    "    LRModel.__init__(self, X, y, reg, epsilon)\n",
    "    self.random_x = np.random.randint(0, X.shape[0], it)\n",
    "    self.cost_values = list([self.cost_fn(self.y, self.s)])\n",
    "    self.it = it\n",
    "    self.regression_fn(self.w)\n",
    "    \n",
    "  def fit(self, constant = True):\n",
    "    i = 0\n",
    "    for x in self.random_x[1:]:\n",
    "      i += 1\n",
    "      x_j = self.X[x]\n",
    "      s_j = self.logistic_fn(np.dot(x_j, self.w))\n",
    "      step_value = self.reg * self.w - self.it * (self.y[x] - s_j) * x_j.transpose()\n",
    "      if (constant == True):\n",
    "        self.w = self.w + self.epsilon * (step_value)\n",
    "      else:\n",
    "        self.w = self.w + (self.epsilon / i) * step_value\n",
    "      self.regression_fn(self.w)\n",
    "      v = self.cost_fn(self.y, self.s)\n",
    "      self.cost_values.append(v)\n",
    "    return self, self.cost_values"
   ]
  },
  {
   "cell_type": "markdown",
   "metadata": {},
   "source": [
    "## Comparing Training Outcomes"
   ]
  },
  {
   "cell_type": "markdown",
   "metadata": {
    "id": "mHA0-uU8ildo"
   },
   "source": [
    "### Plot - Batch Gradient Descent"
   ]
  },
  {
   "cell_type": "code",
   "execution_count": null,
   "metadata": {
    "id": "5rJQLQjlbZoZ"
   },
   "outputs": [],
   "source": [
    "# Plot for Batch Gradient Descent\n",
    "y_train = df[\"label\"]\n",
    "X_train = normalize_training(df.copy().drop(\"label\", axis = 1))\n",
    "gd = GradientDescent(X_train, y_train, 0.1, 0.0003, 4000)\n",
    "gd, cost_values = gd.fit()\n",
    "\n",
    "sns.lineplot(x = range(0, gd.n + 1), y = cost_values)\n",
    "plt.title(\"Value of Cost Function vs. Number of Training Iterations for Batch Gradient Descent\")\n",
    "plt.xlabel(\"Training Iterations Completed\")\n",
    "plt.ylabel(\"Value of Cost Function $J(h)$\")"
   ]
  },
  {
   "cell_type": "markdown",
   "metadata": {
    "id": "I9WAGfFji6Sc"
   },
   "source": [
    "### Plot - Stochastic Gradient Descent"
   ]
  },
  {
   "cell_type": "code",
   "execution_count": null,
   "metadata": {
    "id": "KsDlW7cet-y9"
   },
   "outputs": [],
   "source": [
    "y_train_SGD = df[\"label\"]\n",
    "X_train_SGD = normalize_training(df.copy().drop(\"label\", axis = 1))\n",
    "\n",
    "# Plot for Stochastic Gradient Descent with constant step-size\n",
    "\n",
    "SGD = StochasticDescent(X_train_SGD, y_train_SGD, 0.3, 0.00001, 4000)\n",
    "SGD, cost_values = SGD.fit()\n",
    "sns.lineplot(y = cost_values, x = range(len(cost_values)))\n",
    "plt.title(\"Value of Cost Function vs. Number of Training Iterations for Stochastic Gradient Descent\")\n",
    "plt.xlabel(\"Training Iterations Completed\")\n",
    "plt.ylabel(\"Value of Cost Function $J(h)$\")"
   ]
  },
  {
   "cell_type": "markdown",
   "metadata": {
    "id": "jPeC2o0mi_Q6"
   },
   "source": [
    "### Plot - Stochastic Gradient Descent with Decay-Factor"
   ]
  },
  {
   "cell_type": "code",
   "execution_count": null,
   "metadata": {
    "id": "_C04IfEOx9V4"
   },
   "outputs": [],
   "source": [
    "# Plot for Stochastic Gradient Descent with shrinking step-size and delta = 0.00008\n",
    "\n",
    "SGD_shrinking = StochasticDescent(X_train_SGD, y_train_SGD, 0.3, 0.00008, 4000)\n",
    "SGD_shrinking, cost_values_shrinking = SGD_shrinking.fit(constant = False)\n",
    "sns.lineplot(y = cost_values_shrinking, x = range(len(cost_values_shrinking)))\n",
    "plt.title(\"Value of Cost Function vs. Number of Training Iterations for SGD with shrinking step-size $\\delta = 8 * (0.1)^5$\")\n",
    "plt.xlabel(\"Training Iterations Completed\")\n",
    "plt.ylabel(\"Value of Cost Function $J(h)$\")"
   ]
  },
  {
   "cell_type": "code",
   "execution_count": null,
   "metadata": {
    "colab": {
     "base_uri": "https://localhost:8080/",
     "height": 321
    },
    "id": "8oSLQtLzGlkG",
    "outputId": "a299d923-5885-49b5-9d24-6f2bd07fbbff"
   },
   "outputs": [
    {
     "data": {
      "text/plain": [
       "<matplotlib.legend.Legend at 0x7fa81d812a30>"
      ]
     },
     "execution_count": 293,
     "metadata": {},
     "output_type": "execute_result"
    },
    {
     "data": {
      "image/png": "[encoded data removed]",
      "text/plain": [
       "<Figure size 432x288 with 1 Axes>"
      ]
     },
     "metadata": {},
     "output_type": "display_data"
    }
   ],
   "source": [
    "sns.lineplot(y = cost_values, x = range(len(cost_values)), label = \"Constant\")\n",
    "sns.lineplot(y = cost_values_shrinking, x = range(len(cost_values_shrinking)), label = \"Shrinking\")\n",
    "plt.title(\"Cost Function vs. Number of Training Iterations for SGD with constant and shrinking $\\epsilon$\")\n",
    "plt.xlabel(\"Training Iterations Completed\")\n",
    "plt.ylabel(\"Value of Cost Function $J(h)$\")\n",
    "plt.legend()"
   ]
  },
  {
   "cell_type": "markdown",
   "metadata": {
    "id": "TTEmpnnGjGei"
   },
   "source": [
    "### Kaggle Code"
   ]
  },
  {
   "cell_type": "code",
   "execution_count": null,
   "metadata": {
    "id": "0bLLdx-3J3Ea"
   },
   "outputs": [],
   "source": [
    "# Code to generate test predictions for Kaggle\n",
    "np.random.seed(78)\n",
    "def bgd_classify(w, x):\n",
    "  w_x = np.dot(w, x.transpose())\n",
    "  return np.round(expit(-w_x))\n",
    "\n",
    "X_train, y_train, X_test = Process(df, test_p = 0, test = pd.DataFrame(dataset[\"X_test\"])).get_test()\n",
    "bgd = GradientDescent(X_train, y_train, 0.1, 0.0003, 4000)\n",
    "bgd, c_vals = bgd.fit()\n",
    "w = bgd.w[:-2]\n",
    "pred = [int(bgd_classify(w, x)) for x in X_test.to_numpy()]\n",
    "\n",
    "test_predictions = (np.array(pred)).reshape(-1, 1)\n",
    "predictions = pd.DataFrame(test_predictions, columns = [\"Category\"])\n",
    "predictions[\"Id\"] = np.arange(1, 498)\n",
    "kdf = pd.DataFrame()\n",
    "kdf[\"Id\"] = np.arange(1, 498)\n",
    "kdf[\"Category\"] = predictions[\"Category\"]\n",
    "kdf.to_csv(\"wine_test_preds.csv\", index=False)"
   ]
  }
 ],
 "metadata": {
  "colab": {
   "provenance": []
  },
  "kernelspec": {
   "display_name": "Python 3 (ipykernel)",
   "language": "python",
   "name": "python3"
  },
  "language_info": {
   "codemirror_mode": {
    "name": "ipython",
    "version": 3
   },
   "file_extension": ".py",
   "mimetype": "text/x-python",
   "name": "python",
   "nbconvert_exporter": "python",
   "pygments_lexer": "ipython3",
   "version": "3.9.6"
  }
 },
 "nbformat": 4,
 "nbformat_minor": 4
}
